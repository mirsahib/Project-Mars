{
 "cells": [
  {
   "cell_type": "code",
   "execution_count": 2,
   "metadata": {},
   "outputs": [],
   "source": [
    "import pandas as pd\n",
    "import numpy as np\n",
    "import random\n",
    "import matplotlib.pyplot as plt"
   ]
  },
  {
   "cell_type": "code",
   "execution_count": 3,
   "metadata": {},
   "outputs": [],
   "source": [
    "df = pd.read_csv('iris.csv')"
   ]
  },
  {
   "cell_type": "markdown",
   "metadata": {},
   "source": [
    "**Investigating the dataset**"
   ]
  },
  {
   "cell_type": "code",
   "execution_count": 4,
   "metadata": {},
   "outputs": [
    {
     "data": {
      "text/html": [
       "<div>\n",
       "<style scoped>\n",
       "    .dataframe tbody tr th:only-of-type {\n",
       "        vertical-align: middle;\n",
       "    }\n",
       "\n",
       "    .dataframe tbody tr th {\n",
       "        vertical-align: top;\n",
       "    }\n",
       "\n",
       "    .dataframe thead th {\n",
       "        text-align: right;\n",
       "    }\n",
       "</style>\n",
       "<table border=\"1\" class=\"dataframe\">\n",
       "  <thead>\n",
       "    <tr style=\"text-align: right;\">\n",
       "      <th></th>\n",
       "      <th>sepal.length</th>\n",
       "      <th>sepal.width</th>\n",
       "      <th>petal.length</th>\n",
       "      <th>petal.width</th>\n",
       "      <th>variety</th>\n",
       "    </tr>\n",
       "  </thead>\n",
       "  <tbody>\n",
       "    <tr>\n",
       "      <th>0</th>\n",
       "      <td>5.1</td>\n",
       "      <td>3.5</td>\n",
       "      <td>1.4</td>\n",
       "      <td>0.2</td>\n",
       "      <td>Setosa</td>\n",
       "    </tr>\n",
       "    <tr>\n",
       "      <th>1</th>\n",
       "      <td>4.9</td>\n",
       "      <td>3.0</td>\n",
       "      <td>1.4</td>\n",
       "      <td>0.2</td>\n",
       "      <td>Setosa</td>\n",
       "    </tr>\n",
       "    <tr>\n",
       "      <th>2</th>\n",
       "      <td>4.7</td>\n",
       "      <td>3.2</td>\n",
       "      <td>1.3</td>\n",
       "      <td>0.2</td>\n",
       "      <td>Setosa</td>\n",
       "    </tr>\n",
       "    <tr>\n",
       "      <th>3</th>\n",
       "      <td>4.6</td>\n",
       "      <td>3.1</td>\n",
       "      <td>1.5</td>\n",
       "      <td>0.2</td>\n",
       "      <td>Setosa</td>\n",
       "    </tr>\n",
       "    <tr>\n",
       "      <th>4</th>\n",
       "      <td>5.0</td>\n",
       "      <td>3.6</td>\n",
       "      <td>1.4</td>\n",
       "      <td>0.2</td>\n",
       "      <td>Setosa</td>\n",
       "    </tr>\n",
       "    <tr>\n",
       "      <th>5</th>\n",
       "      <td>5.4</td>\n",
       "      <td>3.9</td>\n",
       "      <td>1.7</td>\n",
       "      <td>0.4</td>\n",
       "      <td>Setosa</td>\n",
       "    </tr>\n",
       "    <tr>\n",
       "      <th>6</th>\n",
       "      <td>4.6</td>\n",
       "      <td>3.4</td>\n",
       "      <td>1.4</td>\n",
       "      <td>0.3</td>\n",
       "      <td>Setosa</td>\n",
       "    </tr>\n",
       "    <tr>\n",
       "      <th>7</th>\n",
       "      <td>5.0</td>\n",
       "      <td>3.4</td>\n",
       "      <td>1.5</td>\n",
       "      <td>0.2</td>\n",
       "      <td>Setosa</td>\n",
       "    </tr>\n",
       "    <tr>\n",
       "      <th>8</th>\n",
       "      <td>4.4</td>\n",
       "      <td>2.9</td>\n",
       "      <td>1.4</td>\n",
       "      <td>0.2</td>\n",
       "      <td>Setosa</td>\n",
       "    </tr>\n",
       "    <tr>\n",
       "      <th>9</th>\n",
       "      <td>4.9</td>\n",
       "      <td>3.1</td>\n",
       "      <td>1.5</td>\n",
       "      <td>0.1</td>\n",
       "      <td>Setosa</td>\n",
       "    </tr>\n",
       "  </tbody>\n",
       "</table>\n",
       "</div>"
      ],
      "text/plain": [
       "   sepal.length  sepal.width  petal.length  petal.width variety\n",
       "0           5.1          3.5           1.4          0.2  Setosa\n",
       "1           4.9          3.0           1.4          0.2  Setosa\n",
       "2           4.7          3.2           1.3          0.2  Setosa\n",
       "3           4.6          3.1           1.5          0.2  Setosa\n",
       "4           5.0          3.6           1.4          0.2  Setosa\n",
       "5           5.4          3.9           1.7          0.4  Setosa\n",
       "6           4.6          3.4           1.4          0.3  Setosa\n",
       "7           5.0          3.4           1.5          0.2  Setosa\n",
       "8           4.4          2.9           1.4          0.2  Setosa\n",
       "9           4.9          3.1           1.5          0.1  Setosa"
      ]
     },
     "execution_count": 4,
     "metadata": {},
     "output_type": "execute_result"
    }
   ],
   "source": [
    "df.head(10)"
   ]
  },
  {
   "cell_type": "code",
   "execution_count": 5,
   "metadata": {},
   "outputs": [
    {
     "name": "stdout",
     "output_type": "stream",
     "text": [
      "<class 'pandas.core.frame.DataFrame'>\n",
      "RangeIndex: 150 entries, 0 to 149\n",
      "Data columns (total 5 columns):\n",
      "sepal.length    150 non-null float64\n",
      "sepal.width     150 non-null float64\n",
      "petal.length    150 non-null float64\n",
      "petal.width     150 non-null float64\n",
      "variety         150 non-null object\n",
      "dtypes: float64(4), object(1)\n",
      "memory usage: 5.3+ KB\n"
     ]
    }
   ],
   "source": [
    "df.info()"
   ]
  },
  {
   "cell_type": "markdown",
   "metadata": {},
   "source": [
    "**replacing catagorical data**"
   ]
  },
  {
   "cell_type": "code",
   "execution_count": 6,
   "metadata": {},
   "outputs": [],
   "source": [
    "df_copy = df.copy()"
   ]
  },
  {
   "cell_type": "code",
   "execution_count": 7,
   "metadata": {},
   "outputs": [],
   "source": [
    "replace_cat_data = {'variety':{'Setosa':1,'Versicolor':2,'Virginica':3}}"
   ]
  },
  {
   "cell_type": "code",
   "execution_count": 8,
   "metadata": {},
   "outputs": [],
   "source": [
    "df_copy.replace(replace_cat_data,inplace=True)"
   ]
  },
  {
   "cell_type": "code",
   "execution_count": 9,
   "metadata": {},
   "outputs": [
    {
     "data": {
      "text/html": [
       "<div>\n",
       "<style scoped>\n",
       "    .dataframe tbody tr th:only-of-type {\n",
       "        vertical-align: middle;\n",
       "    }\n",
       "\n",
       "    .dataframe tbody tr th {\n",
       "        vertical-align: top;\n",
       "    }\n",
       "\n",
       "    .dataframe thead th {\n",
       "        text-align: right;\n",
       "    }\n",
       "</style>\n",
       "<table border=\"1\" class=\"dataframe\">\n",
       "  <thead>\n",
       "    <tr style=\"text-align: right;\">\n",
       "      <th></th>\n",
       "      <th>sepal.length</th>\n",
       "      <th>sepal.width</th>\n",
       "      <th>petal.length</th>\n",
       "      <th>petal.width</th>\n",
       "      <th>variety</th>\n",
       "    </tr>\n",
       "  </thead>\n",
       "  <tbody>\n",
       "    <tr>\n",
       "      <th>0</th>\n",
       "      <td>5.1</td>\n",
       "      <td>3.5</td>\n",
       "      <td>1.4</td>\n",
       "      <td>0.2</td>\n",
       "      <td>1</td>\n",
       "    </tr>\n",
       "    <tr>\n",
       "      <th>1</th>\n",
       "      <td>4.9</td>\n",
       "      <td>3.0</td>\n",
       "      <td>1.4</td>\n",
       "      <td>0.2</td>\n",
       "      <td>1</td>\n",
       "    </tr>\n",
       "    <tr>\n",
       "      <th>2</th>\n",
       "      <td>4.7</td>\n",
       "      <td>3.2</td>\n",
       "      <td>1.3</td>\n",
       "      <td>0.2</td>\n",
       "      <td>1</td>\n",
       "    </tr>\n",
       "    <tr>\n",
       "      <th>3</th>\n",
       "      <td>4.6</td>\n",
       "      <td>3.1</td>\n",
       "      <td>1.5</td>\n",
       "      <td>0.2</td>\n",
       "      <td>1</td>\n",
       "    </tr>\n",
       "    <tr>\n",
       "      <th>4</th>\n",
       "      <td>5.0</td>\n",
       "      <td>3.6</td>\n",
       "      <td>1.4</td>\n",
       "      <td>0.2</td>\n",
       "      <td>1</td>\n",
       "    </tr>\n",
       "  </tbody>\n",
       "</table>\n",
       "</div>"
      ],
      "text/plain": [
       "   sepal.length  sepal.width  petal.length  petal.width  variety\n",
       "0           5.1          3.5           1.4          0.2        1\n",
       "1           4.9          3.0           1.4          0.2        1\n",
       "2           4.7          3.2           1.3          0.2        1\n",
       "3           4.6          3.1           1.5          0.2        1\n",
       "4           5.0          3.6           1.4          0.2        1"
      ]
     },
     "execution_count": 9,
     "metadata": {},
     "output_type": "execute_result"
    }
   ],
   "source": [
    "df_copy.head()"
   ]
  },
  {
   "cell_type": "code",
   "execution_count": 10,
   "metadata": {},
   "outputs": [],
   "source": [
    "data = df_copy.values #creating a np matrix with dataframe"
   ]
  },
  {
   "cell_type": "markdown",
   "metadata": {},
   "source": [
    "**splitting the data set into two part(training set and test set),split ratio is given by the user(in this example i am using 67% split ratio)**"
   ]
  },
  {
   "cell_type": "code",
   "execution_count": 11,
   "metadata": {},
   "outputs": [],
   "source": [
    "def loadDataSet(training_data,test_data,split):\n",
    "    for i in range(len(data)):\n",
    "        dataset = data[i,:]\n",
    "        if random.random()<split:\n",
    "            training_data.append(dataset)\n",
    "        else:\n",
    "            test_data.append(dataset)"
   ]
  },
  {
   "cell_type": "code",
   "execution_count": 12,
   "metadata": {},
   "outputs": [
    {
     "name": "stdout",
     "output_type": "stream",
     "text": [
      "(94, 5)\n",
      "(56, 5)\n"
     ]
    }
   ],
   "source": [
    "#testing function\n",
    "split_ratio=0.67\n",
    "training_data = []\n",
    "test_data = []\n",
    "\n",
    "loadDataSet(training_data,test_data,split_ratio)\n",
    "training_set = np.asarray(training_data)\n",
    "test = np.asarray(test_data)\n",
    "print(training_set.shape)\n",
    "print(test.shape)"
   ]
  },
  {
   "cell_type": "code",
   "execution_count": 13,
   "metadata": {},
   "outputs": [],
   "source": [
    "def assign_centroid(training_data,k):\n",
    "    centroid = []\n",
    "    for i in range(0,k):\n",
    "        index = random.randint(0,len(training_data)-1)\n",
    "        point = training_data[[index],:]\n",
    "        centroid.append(point)\n",
    "    \n",
    "    return np.asarray(centroid)"
   ]
  },
  {
   "cell_type": "code",
   "execution_count": 14,
   "metadata": {},
   "outputs": [
    {
     "data": {
      "text/plain": [
       "array([[[5.5, 3.5, 1.3, 0.2, 1. ]],\n",
       "\n",
       "       [[5.1, 3.8, 1.6, 0.2, 1. ]],\n",
       "\n",
       "       [[5.1, 3.8, 1.9, 0.4, 1. ]]])"
      ]
     },
     "execution_count": 14,
     "metadata": {},
     "output_type": "execute_result"
    }
   ],
   "source": [
    "#testing function\n",
    "assign_centroid(training_set,3)"
   ]
  },
  {
   "cell_type": "code",
   "execution_count": 15,
   "metadata": {},
   "outputs": [],
   "source": [
    "# parameter min_index,i,training_set length,cluster no.\n",
    "import pdb\n",
    "def map_cluster(cluster,min_index,point_index):\n",
    "    #pdb.set_trace()\n",
    "    for j in range(0,len(cluster)):\n",
    "        if cluster[j,min_index]==0:\n",
    "            cluster[j,min_index] = point_index+1\n",
    "            break\n",
    "    \n",
    "    return cluster\n",
    "    "
   ]
  },
  {
   "cell_type": "code",
   "execution_count": 16,
   "metadata": {},
   "outputs": [],
   "source": [
    "def avg_cluster(cluster,data,n):\n",
    "    vector = np.zeros([n,5])\n",
    "    for i in range(0,n):\n",
    "        #pdb.set_trace()\n",
    "        avg = []\n",
    "        counter = 0\n",
    "        for j in range(0,len(data)):\n",
    "            if cluster[j,i]!=0:\n",
    "                datapoint = int(cluster[j,i]-1)\n",
    "                value = data[[datapoint],:]\n",
    "                avg.append(value)\n",
    "                counter += 1\n",
    "        #pdb.set_trace()\n",
    "        avg = np.asarray(avg).reshape(counter,5)\n",
    "        vector[[i],:] = np.mean(avg,axis=0)\n",
    "    \n",
    "    return vector"
   ]
  },
  {
   "cell_type": "code",
   "execution_count": 17,
   "metadata": {},
   "outputs": [
    {
     "data": {
      "text/plain": [
       "array([[4.73333333, 3.1       , 1.4       , 0.2       , 1.        ],\n",
       "       [5.        , 3.575     , 1.5       , 0.275     , 1.        ],\n",
       "       [4.65      , 3.        , 1.45      , 0.15      , 1.        ]])"
      ]
     },
     "execution_count": 17,
     "metadata": {},
     "output_type": "execute_result"
    }
   ],
   "source": [
    "#testing function\n",
    "cluster = np.zeros([150,3])\n",
    "for i in range(1,4):\n",
    "    cluster = map_cluster(cluster,0,i)\n",
    "\n",
    "for i in range(4,8):\n",
    "    cluster = map_cluster(cluster,1,i)\n",
    "\n",
    "for i in range(8,10):\n",
    "    cluster = map_cluster(cluster,2,i)    \n",
    "cluster\n",
    "x = avg_cluster(cluster,data,3)\n",
    "x"
   ]
  },
  {
   "cell_type": "code",
   "execution_count": 18,
   "metadata": {},
   "outputs": [],
   "source": [
    "def demap_cluster(cluster,data):\n",
    "    x,y = cluster.shape\n",
    "    label = np.zeros([x,y])\n",
    "    for i in range(0,y):\n",
    "        for j in range(0,x):\n",
    "            if cluster[j,i]!=0:\n",
    "                #pdb.set_trace()\n",
    "                datapoint = int(cluster[j,i])\n",
    "                value = data[datapoint-1,4]\n",
    "                label[j,i] = value\n",
    "    \n",
    "    return label\n",
    "                \n",
    "            "
   ]
  },
  {
   "cell_type": "code",
   "execution_count": 19,
   "metadata": {},
   "outputs": [],
   "source": [
    "def label_info(label,i):\n",
    "    class_label = {1:0,2:0,3:0}\n",
    "    for j in range(len(label)):\n",
    "        if label[j,i]!=0:\n",
    "            val = int(label[j,i])\n",
    "            class_label[val]+=1\n",
    "    return class_label"
   ]
  },
  {
   "cell_type": "code",
   "execution_count": 26,
   "metadata": {},
   "outputs": [
    {
     "name": "stdout",
     "output_type": "stream",
     "text": [
      "Cluster: 1 has\n",
      "setosa: 0 versicolor: 38 virginica: 0\n",
      "\n",
      "Cluster: 2 has\n",
      "setosa: 0 versicolor: 1 virginica: 31\n",
      "\n",
      "Cluster: 3 has\n",
      "setosa: 31 versicolor: 0 virginica: 0\n",
      "\n"
     ]
    }
   ],
   "source": [
    "def main():\n",
    "    split_ratio=0.67\n",
    "    training_data = []\n",
    "    test_data = []\n",
    "    k = 3;#no. of \n",
    "    loadDataSet(training_data,test_data,split_ratio)\n",
    "    training_set = np.asarray(training_data)\n",
    "    test = np.asarray(test_data)\n",
    "    centroid = assign_centroid(training_set,k)\n",
    "    centroid_diff = np.ones([k,5])\n",
    "    cluster = np.zeros([len(training_set),k])\n",
    "    #pdb.set_trace()\n",
    "    while np.linalg.norm(centroid_diff)>10**-2:\n",
    "        cluster = np.zeros([len(training_set),k])\n",
    "        for i in range(0,len(training_set)):\n",
    "            distance = []\n",
    "            for j in range(0,k):\n",
    "                val = np.linalg.norm(training_set[[i],:]-centroid[[j],:])\n",
    "                distance.append(val)\n",
    "            #pdb.set_trace()\n",
    "            min_index = distance.index(min(distance))\n",
    "            cluster = map_cluster(cluster,min_index,i)\n",
    "        #pdb.set_trace()\n",
    "        new_centroid = avg_cluster(cluster,training_set,k)\n",
    "        centroid_diff = new_centroid-centroid\n",
    "        #print(np.linalg.norm(centroid_diff))\n",
    "        centroid = new_centroid\n",
    "    #print(cluster)\n",
    "    label = demap_cluster(cluster,training_set)\n",
    "    #pdb.set_trace()\n",
    "    x,y = label.shape\n",
    "    for i in range(0,y):\n",
    "        count = label_info(label,i)\n",
    "        print(\"Cluster: \"+str(i+1)+\" has\")\n",
    "        #pdb.set_trace()\n",
    "        #print(count)\n",
    "        print('setosa: ' +str(count[1])+' versicolor: '+str(count[2])+' virginica: '+str(count[3])+\"\\n\")\n",
    "    #return centroid\n",
    "    \n",
    "main()    "
   ]
  },
  {
   "cell_type": "code",
   "execution_count": null,
   "metadata": {},
   "outputs": [],
   "source": []
  }
 ],
 "metadata": {
  "kernelspec": {
   "display_name": "Python 3",
   "language": "python",
   "name": "python3"
  },
  "language_info": {
   "codemirror_mode": {
    "name": "ipython",
    "version": 3
   },
   "file_extension": ".py",
   "mimetype": "text/x-python",
   "name": "python",
   "nbconvert_exporter": "python",
   "pygments_lexer": "ipython3",
   "version": "3.6.4"
  }
 },
 "nbformat": 4,
 "nbformat_minor": 2
}
